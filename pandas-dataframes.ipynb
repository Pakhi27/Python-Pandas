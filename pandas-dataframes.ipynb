{
 "cells": [
  {
   "cell_type": "markdown",
   "id": "433e8351",
   "metadata": {},
   "source": [
    "# Dataframes in pandas"
   ]
  },
  {
   "cell_type": "code",
   "execution_count": 2,
   "id": "c8c3b0d7",
   "metadata": {},
   "outputs": [
    {
     "name": "stdout",
     "output_type": "stream",
     "text": [
      "   0\n",
      "0  1\n",
      "1  2\n",
      "2  3\n",
      "3  4\n",
      "4  5\n",
      "5  6\n",
      "<class 'pandas.core.frame.DataFrame'>\n"
     ]
    }
   ],
   "source": [
    "import pandas as pd\n",
    "l=[1,2,3,4,5,6]\n",
    "var=pd.DataFrame(l)\n",
    "print(var)\n",
    "print(type(var))"
   ]
  },
  {
   "cell_type": "code",
   "execution_count": 3,
   "id": "75aa193d",
   "metadata": {},
   "outputs": [
    {
     "name": "stdout",
     "output_type": "stream",
     "text": [
      "   a  b\n",
      "0  1  1\n",
      "1  2  2\n",
      "2  3  3\n",
      "3  4  4\n",
      "4  5  5\n",
      "<class 'pandas.core.frame.DataFrame'>\n"
     ]
    }
   ],
   "source": [
    "d={\"a\":[1,2,3,4,5],\"b\":[1,2,3,4,5],}\n",
    "var1=pd.DataFrame(d)\n",
    "print(var1)\n",
    "print(type(var1))"
   ]
  },
  {
   "cell_type": "code",
   "execution_count": 12,
   "id": "ca68a404",
   "metadata": {
    "scrolled": true
   },
   "outputs": [
    {
     "name": "stdout",
     "output_type": "stream",
     "text": [
      "   a  1\n",
      "a  1  1\n",
      "s  2  2\n",
      "d  3  3\n",
      "k  4  4\n",
      "p  5  5\n",
      "<class 'pandas.core.frame.DataFrame'>\n",
      "\n",
      "   a  c  d  1\n",
      "0  1  1  1  1\n",
      "1  2  2  2  2\n",
      "2  3  3  3  3\n",
      "3  4  4  4  4\n",
      "4  5  5  5  5\n",
      "\n",
      "4\n"
     ]
    }
   ],
   "source": [
    "d={\"a\":[1,2,3,4,5],\"c\":[1,2,3,4,5],\"d\":[1,2,3,4,5],1:[1,2,3,4,5]}\n",
    "var1=pd.DataFrame(d,columns=[\"a\",1],index=[\"a\",\"s\",\"d\",\"k\",\"p\"])\n",
    "print(var1)\n",
    "print(type(var1))\n",
    "print()\n",
    "var2=pd.DataFrame(d)\n",
    "print(var2)\n",
    "print()\n",
    "print(var2[\"a\"][3])"
   ]
  },
  {
   "cell_type": "code",
   "execution_count": 13,
   "id": "3e115619",
   "metadata": {},
   "outputs": [
    {
     "name": "stdout",
     "output_type": "stream",
     "text": [
      "<class 'pandas.core.frame.DataFrame'>\n",
      "    0   1   2   3   4\n",
      "0   1   2   3   4   5\n",
      "1  11  12  13  14  15\n"
     ]
    }
   ],
   "source": [
    "list_1=[[1,2,3,4,5],[11,12,13,14,15]]\n",
    "x=pd.DataFrame(list_1)\n",
    "print(type(x))\n",
    "print(x)\n"
   ]
  },
  {
   "cell_type": "code",
   "execution_count": 14,
   "id": "83479972",
   "metadata": {},
   "outputs": [
    {
     "name": "stdout",
     "output_type": "stream",
     "text": [
      "   s  r\n",
      "0  1  5\n",
      "1  2  6\n",
      "2  3  7\n",
      "3  4  8\n",
      "<class 'pandas.core.frame.DataFrame'>\n"
     ]
    }
   ],
   "source": [
    "sr={\"s\":pd.Series([1,2,3,4]),\"r\":pd.Series([5,6,7,8])}\n",
    "var3=pd.DataFrame(sr)\n",
    "print(var3)\n",
    "print(type(var3))"
   ]
  }
 ],
 "metadata": {
  "kernelspec": {
   "display_name": "Python 3 (ipykernel)",
   "language": "python",
   "name": "python3"
  },
  "language_info": {
   "codemirror_mode": {
    "name": "ipython",
    "version": 3
   },
   "file_extension": ".py",
   "mimetype": "text/x-python",
   "name": "python",
   "nbconvert_exporter": "python",
   "pygments_lexer": "ipython3",
   "version": "3.11.4"
  }
 },
 "nbformat": 4,
 "nbformat_minor": 5
}
