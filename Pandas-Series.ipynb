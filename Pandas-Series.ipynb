{
 "cells": [
  {
   "cell_type": "markdown",
   "id": "bb78a355",
   "metadata": {},
   "source": [
    "# pandas-series"
   ]
  },
  {
   "cell_type": "code",
   "execution_count": 9,
   "id": "671f6ac0",
   "metadata": {},
   "outputs": [
    {
     "name": "stdout",
     "output_type": "stream",
     "text": [
      "0    3\n",
      "1    4\n",
      "2    5\n",
      "3    6\n",
      "dtype: int64\n",
      "a    3\n",
      "s    4\n",
      "d    5\n",
      "f    6\n",
      "dtype: int64\n",
      "a    3.0\n",
      "s    4.0\n",
      "d    5.0\n",
      "f    6.0\n",
      "Name: python, dtype: float32\n",
      "<class 'pandas.core.series.Series'>\n",
      "5\n"
     ]
    }
   ],
   "source": [
    "import pandas as pd\n",
    "x=[3,4,5,6]\n",
    "#  0,1,2,3\n",
    "var=pd.Series(x)\n",
    "print(var)\n",
    "var1=pd.Series(x,index=['a','s','d','f'])\n",
    "print(var1)\n",
    "var2=pd.Series(x,index=['a','s','d','f'],dtype=\"f\",name=\"python\")\n",
    "print(var2)\n",
    "print(type(var))\n",
    "print(var[2])"
   ]
  },
  {
   "cell_type": "code",
   "execution_count": 11,
   "id": "f5cb4e35",
   "metadata": {},
   "outputs": [
    {
     "name": "stdout",
     "output_type": "stream",
     "text": [
      "name    [python, c, c++, java]\n",
      "pop           [13, 14, 15, 16]\n",
      "rank              [1, 2, 4, 3]\n",
      "dtype: object\n",
      "maths    98\n",
      "phy      95\n",
      "chem     96\n",
      "dtype: int64\n"
     ]
    }
   ],
   "source": [
    "dic={\"name\":['python','c','c++','java'],\"pop\":[13,14,15,16],\"rank\":[1,2,4,3]}\n",
    "var1=pd.Series(dic)\n",
    "print(var1)\n",
    "dic1={\"maths\":98,\"phy\":95,\"chem\":96}\n",
    "var2=pd.Series(dic1)\n",
    "print(var2)"
   ]
  },
  {
   "cell_type": "code",
   "execution_count": 12,
   "id": "f2a630a8",
   "metadata": {},
   "outputs": [
    {
     "name": "stdout",
     "output_type": "stream",
     "text": [
      "1    27\n",
      "2    27\n",
      "3    27\n",
      "4    27\n",
      "5    27\n",
      "6    27\n",
      "7    27\n",
      "dtype: int64\n",
      "<class 'pandas.core.series.Series'>\n"
     ]
    }
   ],
   "source": [
    "s=pd.Series(27,index=[1,2,3,4,5,6,7])\n",
    "print(s)\n",
    "print(type(s))"
   ]
  },
  {
   "cell_type": "code",
   "execution_count": 13,
   "id": "169bc750",
   "metadata": {},
   "outputs": [
    {
     "name": "stdout",
     "output_type": "stream",
     "text": [
      "1    44.0\n",
      "2    44.0\n",
      "3    44.0\n",
      "4    44.0\n",
      "5    44.0\n",
      "6     NaN\n",
      "7     NaN\n",
      "dtype: float64\n"
     ]
    }
   ],
   "source": [
    "s1=pd.Series(27,index=[1,2,3,4,5,6,7])\n",
    "s2=pd.Series(17,index=[1,2,3,4,5])\n",
    "\n",
    "print(s1+s2)"
   ]
  }
 ],
 "metadata": {
  "kernelspec": {
   "display_name": "Python 3 (ipykernel)",
   "language": "python",
   "name": "python3"
  },
  "language_info": {
   "codemirror_mode": {
    "name": "ipython",
    "version": 3
   },
   "file_extension": ".py",
   "mimetype": "text/x-python",
   "name": "python",
   "nbconvert_exporter": "python",
   "pygments_lexer": "ipython3",
   "version": "3.11.4"
  }
 },
 "nbformat": 4,
 "nbformat_minor": 5
}
